{
  "cells": [
    {
      "cell_type": "code",
      "execution_count": null,
      "metadata": {
        "id": "j0QPqdpD4jJJ"
      },
      "outputs": [],
      "source": [
        "import pandas as pd\n",
        "import numpy as np\n",
        "import matplotlib.pyplot as plt\n",
        "import seaborn as sns"
      ]
    },
    {
      "cell_type": "code",
      "source": [
        "print(\"=== 1. Variabel dan Tipe Data ===\")\n",
        "angka_int = 10\n",
        "angka_float = 3.14\n",
        "teks = \"Halo Python\"\n",
        "daftar = [1, 2, 3]"
      ],
      "metadata": {
        "colab": {
          "base_uri": "https://localhost:8080/"
        },
        "id": "IJAzhAqCUQxS",
        "outputId": "32dfda5a-4611-48d3-dea2-85f4a90c35f7"
      },
      "execution_count": null,
      "outputs": [
        {
          "output_type": "stream",
          "name": "stdout",
          "text": [
            "=== 1. Variabel dan Tipe Data ===\n"
          ]
        }
      ]
    },
    {
      "cell_type": "code",
      "source": [
        "print(angka_int, \"->\", type(angka_int))\n",
        "print(angka_float, \"->\", type(angka_float))\n",
        "print(teks, \"->\", type(teks))\n",
        "print(daftar, \"->\", type(daftar))\n",
        "print()\n"
      ],
      "metadata": {
        "colab": {
          "base_uri": "https://localhost:8080/"
        },
        "id": "J95d_jyGXGZy",
        "outputId": "87fe9f66-dd53-47cb-c7c4-59ad71302d9e"
      },
      "execution_count": null,
      "outputs": [
        {
          "output_type": "stream",
          "name": "stdout",
          "text": [
            "10 -> <class 'int'>\n",
            "3.14 -> <class 'float'>\n",
            "Halo Python -> <class 'str'>\n",
            "[1, 2, 3] -> <class 'list'>\n",
            "\n"
          ]
        }
      ]
    },
    {
      "cell_type": "markdown",
      "source": [],
      "metadata": {
        "id": "qTJPRr1GbqYG"
      }
    },
    {
      "cell_type": "code",
      "source": [
        "print(\"=== 2. List dan Manipulasi ===\")\n",
        "belanja = [\"beras\", \"minyak\", \"telur\"]\n",
        "belanja.append(\"gula\")\n",
        "belanja.append(\"kopi\")"
      ],
      "metadata": {
        "colab": {
          "base_uri": "https://localhost:8080/"
        },
        "id": "9BhxA4rZbqtl",
        "outputId": "8cf76a82-d256-4301-9fa2-7c33cc0c17ed"
      },
      "execution_count": null,
      "outputs": [
        {
          "output_type": "stream",
          "name": "stdout",
          "text": [
            "=== 2. List dan Manipulasi ===\n"
          ]
        }
      ]
    },
    {
      "cell_type": "code",
      "source": [
        "print(\"Daftar belanja:\")\n",
        "for item in belanja:\n",
        "    print(\"-\", item)\n",
        "print()"
      ],
      "metadata": {
        "colab": {
          "base_uri": "https://localhost:8080/"
        },
        "id": "ZX5qgD9Kbtl1",
        "outputId": "8e0ee5b8-a70f-4b3a-f94b-898dd4891c56"
      },
      "execution_count": null,
      "outputs": [
        {
          "output_type": "stream",
          "name": "stdout",
          "text": [
            "Daftar belanja:\n",
            "- beras\n",
            "- minyak\n",
            "- telur\n",
            "- gula\n",
            "- kopi\n",
            "\n"
          ]
        }
      ]
    },
    {
      "cell_type": "code",
      "source": [
        "print(\"=== 3. Dictionary ===\")\n",
        "harga = {\n",
        "    \"beras\": 12000,\n",
        "    \"minyak\": 17000,\n",
        "    \"telur\": 24000,\n",
        "    \"gula\": 15000,\n",
        "    \"kopi\": 20000\n",
        "}"
      ],
      "metadata": {
        "colab": {
          "base_uri": "https://localhost:8080/"
        },
        "id": "12gWJi-Gbv9-",
        "outputId": "2b968913-9294-4f7b-faf9-28f0cb7e0a1e"
      },
      "execution_count": null,
      "outputs": [
        {
          "output_type": "stream",
          "name": "stdout",
          "text": [
            "=== 3. Dictionary ===\n"
          ]
        }
      ]
    },
    {
      "cell_type": "code",
      "source": [
        "total = sum(harga.values())\n",
        "print(\"Daftar harga belanjaan:\")\n",
        "for barang, h in harga.items():\n",
        "    print(f\"{barang} : Rp{h}\")\n",
        "print(\"Total harga belanjaan: Rp\", total)\n",
        "print()"
      ],
      "metadata": {
        "colab": {
          "base_uri": "https://localhost:8080/"
        },
        "id": "Qlvm5Pmabx0A",
        "outputId": "692c393d-b1cb-4f3e-c77d-acb958f7b308"
      },
      "execution_count": null,
      "outputs": [
        {
          "output_type": "stream",
          "name": "stdout",
          "text": [
            "Daftar harga belanjaan:\n",
            "beras : Rp12000\n",
            "minyak : Rp17000\n",
            "telur : Rp24000\n",
            "gula : Rp15000\n",
            "kopi : Rp20000\n",
            "Total harga belanjaan: Rp 88000\n",
            "\n"
          ]
        }
      ]
    },
    {
      "cell_type": "code",
      "source": [
        "print(\"=== 4. Fungsi ===\")\n",
        "import math"
      ],
      "metadata": {
        "colab": {
          "base_uri": "https://localhost:8080/"
        },
        "id": "-Y8qa8cibzbl",
        "outputId": "34133c68-e0d0-4ca6-bca8-72d30f518f67"
      },
      "execution_count": null,
      "outputs": [
        {
          "output_type": "stream",
          "name": "stdout",
          "text": [
            "=== 4. Fungsi ===\n"
          ]
        }
      ]
    },
    {
      "cell_type": "code",
      "source": [
        "def lingkaran(r):\n",
        "    luas = math.pi * r**2\n",
        "    keliling = 2 * math.pi * r\n",
        "    return luas, keliling"
      ],
      "metadata": {
        "id": "r4NM72YIb1kU"
      },
      "execution_count": null,
      "outputs": []
    },
    {
      "cell_type": "code",
      "source": [
        "r = 7\n",
        "luas, keliling = lingkaran(r)\n",
        "print(f\"Jari-jari: {r}\")\n",
        "print(f\"Luas lingkaran: {luas:.2f}\")\n",
        "print(f\"Keliling lingkaran: {keliling:.2f}\")\n",
        "print()"
      ],
      "metadata": {
        "colab": {
          "base_uri": "https://localhost:8080/"
        },
        "id": "7cQMQ6utb3l9",
        "outputId": "9db95237-a553-4513-c955-023205b78ddb"
      },
      "execution_count": null,
      "outputs": [
        {
          "output_type": "stream",
          "name": "stdout",
          "text": [
            "Jari-jari: 7\n",
            "Luas lingkaran: 153.94\n",
            "Keliling lingkaran: 43.98\n",
            "\n"
          ]
        }
      ]
    },
    {
      "cell_type": "code",
      "source": [
        "print(\"=== 5. Percabangan ===\")\n",
        "usia = int(input(\"Masukkan usia Anda: \"))"
      ],
      "metadata": {
        "id": "fFGJLof7b6iE",
        "outputId": "0e3cfe8c-a498-46d6-f968-b9cfbe40b345",
        "colab": {
          "base_uri": "https://localhost:8080/"
        }
      },
      "execution_count": null,
      "outputs": [
        {
          "name": "stdout",
          "output_type": "stream",
          "text": [
            "=== 5. Percabangan ===\n",
            "Masukkan usia Anda: 16\n"
          ]
        }
      ]
    },
    {
      "cell_type": "code",
      "source": [
        "if 0 <= usia <= 13:\n",
        "    print(\"Anak\")\n",
        "elif 14 <= usia <= 24:\n",
        "    print(\"Remaja\")\n",
        "elif 25 <= usia <= 49:\n",
        "    print(\"Dewasa\")\n",
        "elif usia >= 50:\n",
        "    print(\"Lansia\")\n",
        "else:\n",
        "    print(\"Usia tidak valid\")"
      ],
      "metadata": {
        "id": "-uxEqkj6b9ON",
        "outputId": "30d5b760-ed64-42ed-bcf6-b680092db6ef",
        "colab": {
          "base_uri": "https://localhost:8080/"
        }
      },
      "execution_count": null,
      "outputs": [
        {
          "output_type": "stream",
          "name": "stdout",
          "text": [
            "Remaja\n"
          ]
        }
      ]
    },
    {
      "cell_type": "markdown",
      "source": [],
      "metadata": {
        "id": "wlKk5URwb_Ee"
      }
    }
  ],
  "metadata": {
    "colab": {
      "provenance": []
    },
    "kernelspec": {
      "display_name": "Python 3",
      "name": "python3"
    },
    "language_info": {
      "name": "python"
    }
  },
  "nbformat": 4,
  "nbformat_minor": 0
}